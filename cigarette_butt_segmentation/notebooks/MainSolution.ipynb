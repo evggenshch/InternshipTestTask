{
 "cells": [
  {
   "cell_type": "markdown",
   "metadata": {},
   "source": [
    "## 1. Постановка задачи"
   ]
  },
  {
   "cell_type": "markdown",
   "metadata": {},
   "source": [
    "Требуется: предложить модель, сегментирующую окурок сигареты на фотографии.\n",
    "\n",
    "Вход: фотография 512x512x3.\n",
    "Выход: маска окурка сигареты 512x512.\n",
    "Метрика: Dice coefficient.\n",
    "\n",
    "    \n",
    "Ссылка на скачивание данных: link.\n",
    "\n",
    "Данные представляют из себя набор синтетически сгенерированных фотографий окурков сигарет и маски, определяющей их на фотографии, а также координаты ограничивающего их бокса.\n",
    "\n",
    "Доступные данные разделены на несколько папок:\n",
    "\n",
    "real_test содержит фотографии 512x512x3;\n",
    "train/images содержит фотографии 512x512x3;\n",
    "train/coco_annotations.json содержит аннотации в формате COCO;\n",
    "val/images содержит фотографии 512x512x3;\n",
    "val/coco_annotations.json содержит аннотации в формате COCO.    \n",
    "    \n",
    "    \n",
    "Для лучшей модели требуется создать 2 файла, которые необходимы для валидации Вашего решения:\n",
    "\n",
    "сохраненные маски для картинок из valid в формате pred_valid_template.csv (в архиве с data) и залить его с тем же именем (см. notebooks/GettingStarted.ipynb);\n",
    "html страницу с предсказанием модели для всех картинок из real_test и папку с используемыми картинками в этой html странице для её просмотра. Создать zip файл c html и изображениями и залить его в папку results (см. notebooks/GettingStarted.ipynb)\n",
    "Также необходимо: <cite data-cite=\"riesen2008iam\"></cite>\n",
    "\n",
    "подготовить код (сам репозиторий) для проверки (докстринги, PEP8);\n",
    "создать отчет (можно прямо в ноутбуке) с описанием Вашего исследования, предобработки, постобработки, проверямых гипотез, используемых моделей, описание лучшего подхода и т.п. (он должен лежать в папке notebooks);"
   ]
  },
  {
   "cell_type": "code",
   "execution_count": 4,
   "metadata": {},
   "outputs": [
    {
     "name": "stdout",
     "output_type": "stream",
     "text": [
      "········\n"
     ]
    },
    {
     "data": {
      "text/plain": [
       "0"
      ]
     },
     "execution_count": 4,
     "metadata": {},
     "output_type": "execute_result"
    }
   ],
   "source": [
    "#import getpass\n",
    "#import os\n",
    "\n",
    "#password = getpass.getpass()\n",
    "#command_install_latex = \"sudo -S apt-get install texlive-latex-extra\" \n",
    "#os.system('echo %s | %s' % (password, command_install_latex))\n",
    "#command_install_bibtex = \"sudo -S apt-get install texlive-bibtex-extra\" \n",
    "#os.system('echo %s | %s' % (password, command_install_bibtex))"
   ]
  },
  {
   "cell_type": "markdown",
   "metadata": {},
   "source": [
    "## 2. Предполагаемые подходы к решению"
   ]
  },
  {
   "cell_type": "markdown",
   "metadata": {},
   "source": [
    "Аугментации:\n",
    "\n",
    "* Rotation\n",
    "\n",
    "\n",
    "Архитектуры нейронных сетей:\n",
    "\n",
    "* U-Net (_U-Net: Convolutional Networks for Biomedical Image Segmentation O. Ronneberger, P. Fischer, and T. Brox. page 234--241. Springer International Publishing, Cham, (2015)_)\n",
    "* RetinaNet\n",
    "* Mask- RCNN"
   ]
  },
  {
   "cell_type": "markdown",
   "metadata": {},
   "source": [
    "## 3. "
   ]
  },
  {
   "cell_type": "markdown",
   "metadata": {},
   "source": [
    "## 4."
   ]
  },
  {
   "cell_type": "code",
   "execution_count": null,
   "metadata": {},
   "outputs": [],
   "source": []
  }
 ],
 "metadata": {
  "kernelspec": {
   "display_name": "Python 3",
   "language": "python",
   "name": "python3"
  },
  "language_info": {
   "codemirror_mode": {
    "name": "ipython",
    "version": 3
   },
   "file_extension": ".py",
   "mimetype": "text/x-python",
   "name": "python",
   "nbconvert_exporter": "python",
   "pygments_lexer": "ipython3",
   "version": "3.6.9"
  }
 },
 "nbformat": 4,
 "nbformat_minor": 2
}
